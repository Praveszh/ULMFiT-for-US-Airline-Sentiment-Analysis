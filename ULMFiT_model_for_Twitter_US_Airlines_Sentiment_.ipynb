{
  "nbformat": 4,
  "nbformat_minor": 0,
  "metadata": {
    "colab": {
      "name": "ULMFiT model for Twitter US Airlines Sentiment .ipynb",
      "version": "0.3.2",
      "provenance": [],
      "collapsed_sections": [],
      "include_colab_link": true
    },
    "kernelspec": {
      "name": "python3",
      "display_name": "Python 3"
    },
    "accelerator": "GPU"
  },
  "cells": [
    {
      "cell_type": "markdown",
      "metadata": {
        "id": "view-in-github",
        "colab_type": "text"
      },
      "source": [
        "<a href=\"https://colab.research.google.com/github/Praveszh/ULMFiT-for-US-Airline-Sentiment-Analysis/blob/master/ULMFiT_model_for_Twitter_US_Airlines_Sentiment_.ipynb\" target=\"_parent\"><img src=\"https://colab.research.google.com/assets/colab-badge.svg\" alt=\"Open In Colab\"/></a>"
      ]
    },
    {
      "metadata": {
        "id": "v9nv-yaEXKXa",
        "colab_type": "text"
      },
      "cell_type": "markdown",
      "source": [
        "##PROBLEM STATEMENT \n",
        "\n",
        "Our objective here is to fine-tune a ULMFiT model and use it for text classification on Twitter US-Airline Sentiment dataset. We will implement ULMFiT in this process.\n",
        "\n",
        "##Twitter US-Airlines Sentiment\n",
        "The following notebook demonstrate how to perform sentiment analysis using ULMFiT how travellers in February 2015 expressed their feelings on Twitter.\n",
        "\n",
        "##Sentiment Analysis\n",
        "Sentiment analysis is a Natural Language Processing (NLP) problem which aims to classify what is the sentiment associated with a given inputed text.\n",
        "\n",
        "##ULMFiT\n",
        "ULMFiT (Universal Language Model Fine-tuning) is a language model which was developed with insperation from inductive transfer learning which is prevelant in computer vision IMAGENET. The basic idea is that a language model shouldn't have to relearn for each task in basic foundations of a given language (i.e. what is a valid word). Therefore, ULMFiT was trained on a large corpus in order to learn language and then we finetune the model for our specific task."
      ]
    },
    {
      "metadata": {
        "id": "iwdszmXMY4Cs",
        "colab_type": "text"
      },
      "cell_type": "markdown",
      "source": [
        "##SYSTEM SETUP\n",
        "We will perform the python implementation on **Google Colab** instead of our local machines. Colab, or Google Colaboratory, is a free cloud service for running Python. One of the best things about it is that it provides **GPU**s and **TPU**s for free and hence, it is pretty handy for training deep learning models.\n",
        "\n",
        "###IMPORTING LIBRARIES\n",
        "\n",
        "Most of the popular libraries like pandas, numpy, matplotlib, nltk, and keras, come preinstalled with Colab. However, 2 libraries, PyTorch and fastai v1 (which we need in this exercise), will need to be installed manually. So, let’s load them into our Colab environment:"
      ]
    },
    {
      "metadata": {
        "id": "VrQN2rMSQrbi",
        "colab_type": "code",
        "cellView": "both",
        "outputId": "3ffa170a-bebc-4a01-a0d4-274eabdeccc1",
        "colab": {
          "base_uri": "https://localhost:8080/",
          "height": 51
        }
      },
      "cell_type": "code",
      "source": [
        "!pip install torch_nightly -f https://download.pytorch.org/whl/nightly/cu92/torch_nightly.html"
      ],
      "execution_count": 1,
      "outputs": [
        {
          "output_type": "stream",
          "text": [
            "Looking in links: https://download.pytorch.org/whl/nightly/cu92/torch_nightly.html\n",
            "Requirement already satisfied: torch_nightly in /usr/local/lib/python3.6/dist-packages (1.0.0.dev20181206)\n"
          ],
          "name": "stdout"
        }
      ]
    },
    {
      "metadata": {
        "id": "vdp55cE0bGMy",
        "colab_type": "code",
        "outputId": "4239abeb-6f3f-4c7f-df6b-d8c308c67632",
        "colab": {
          "base_uri": "https://localhost:8080/",
          "height": 802
        }
      },
      "cell_type": "code",
      "source": [
        "!pip install fastai"
      ],
      "execution_count": 2,
      "outputs": [
        {
          "output_type": "stream",
          "text": [
            "Requirement already satisfied: fastai in /usr/local/lib/python3.6/dist-packages (1.0.48)\n",
            "Requirement already satisfied: pandas in /usr/local/lib/python3.6/dist-packages (from fastai) (0.22.0)\n",
            "Requirement already satisfied: torch>=1.0.0 in /usr/local/lib/python3.6/dist-packages (from fastai) (1.0.1.post2)\n",
            "Requirement already satisfied: dataclasses; python_version < \"3.7\" in /usr/local/lib/python3.6/dist-packages (from fastai) (0.6)\n",
            "Requirement already satisfied: spacy>=2.0.18 in /usr/local/lib/python3.6/dist-packages (from fastai) (2.0.18)\n",
            "Requirement already satisfied: beautifulsoup4 in /usr/local/lib/python3.6/dist-packages (from fastai) (4.6.3)\n",
            "Requirement already satisfied: Pillow in /usr/local/lib/python3.6/dist-packages (from fastai) (4.1.1)\n",
            "Requirement already satisfied: fastprogress>=0.1.19 in /usr/local/lib/python3.6/dist-packages (from fastai) (0.1.20)\n",
            "Requirement already satisfied: matplotlib in /usr/local/lib/python3.6/dist-packages (from fastai) (3.0.3)\n",
            "Requirement already satisfied: requests in /usr/local/lib/python3.6/dist-packages (from fastai) (2.18.4)\n",
            "Requirement already satisfied: nvidia-ml-py3 in /usr/local/lib/python3.6/dist-packages (from fastai) (7.352.0)\n",
            "Requirement already satisfied: typing in /usr/local/lib/python3.6/dist-packages (from fastai) (3.6.6)\n",
            "Requirement already satisfied: pyyaml in /usr/local/lib/python3.6/dist-packages (from fastai) (3.13)\n",
            "Requirement already satisfied: scipy in /usr/local/lib/python3.6/dist-packages (from fastai) (1.1.0)\n",
            "Requirement already satisfied: numpy>=1.15 in /usr/local/lib/python3.6/dist-packages (from fastai) (1.16.2)\n",
            "Requirement already satisfied: packaging in /usr/local/lib/python3.6/dist-packages (from fastai) (19.0)\n",
            "Requirement already satisfied: bottleneck in /usr/local/lib/python3.6/dist-packages (from fastai) (1.2.1)\n",
            "Requirement already satisfied: torchvision in /usr/local/lib/python3.6/dist-packages (from fastai) (0.2.2.post3)\n",
            "Requirement already satisfied: numexpr in /usr/local/lib/python3.6/dist-packages (from fastai) (2.6.9)\n",
            "Requirement already satisfied: pytz>=2011k in /usr/local/lib/python3.6/dist-packages (from pandas->fastai) (2018.9)\n",
            "Requirement already satisfied: python-dateutil>=2 in /usr/local/lib/python3.6/dist-packages (from pandas->fastai) (2.5.3)\n",
            "Requirement already satisfied: preshed<2.1.0,>=2.0.1 in /usr/local/lib/python3.6/dist-packages (from spacy>=2.0.18->fastai) (2.0.1)\n",
            "Requirement already satisfied: thinc<6.13.0,>=6.12.1 in /usr/local/lib/python3.6/dist-packages (from spacy>=2.0.18->fastai) (6.12.1)\n",
            "Requirement already satisfied: dill<0.3,>=0.2 in /usr/local/lib/python3.6/dist-packages (from spacy>=2.0.18->fastai) (0.2.9)\n",
            "Requirement already satisfied: ujson>=1.35 in /usr/local/lib/python3.6/dist-packages (from spacy>=2.0.18->fastai) (1.35)\n",
            "Requirement already satisfied: cymem<2.1.0,>=2.0.2 in /usr/local/lib/python3.6/dist-packages (from spacy>=2.0.18->fastai) (2.0.2)\n",
            "Requirement already satisfied: regex==2018.01.10 in /usr/local/lib/python3.6/dist-packages (from spacy>=2.0.18->fastai) (2018.1.10)\n",
            "Requirement already satisfied: murmurhash<1.1.0,>=0.28.0 in /usr/local/lib/python3.6/dist-packages (from spacy>=2.0.18->fastai) (1.0.2)\n",
            "Requirement already satisfied: plac<1.0.0,>=0.9.6 in /usr/local/lib/python3.6/dist-packages (from spacy>=2.0.18->fastai) (0.9.6)\n",
            "Requirement already satisfied: olefile in /usr/local/lib/python3.6/dist-packages (from Pillow->fastai) (0.46)\n",
            "Requirement already satisfied: cycler>=0.10 in /usr/local/lib/python3.6/dist-packages (from matplotlib->fastai) (0.10.0)\n",
            "Requirement already satisfied: pyparsing!=2.0.4,!=2.1.2,!=2.1.6,>=2.0.1 in /usr/local/lib/python3.6/dist-packages (from matplotlib->fastai) (2.3.1)\n",
            "Requirement already satisfied: kiwisolver>=1.0.1 in /usr/local/lib/python3.6/dist-packages (from matplotlib->fastai) (1.0.1)\n",
            "Requirement already satisfied: urllib3<1.23,>=1.21.1 in /usr/local/lib/python3.6/dist-packages (from requests->fastai) (1.22)\n",
            "Requirement already satisfied: chardet<3.1.0,>=3.0.2 in /usr/local/lib/python3.6/dist-packages (from requests->fastai) (3.0.4)\n",
            "Requirement already satisfied: certifi>=2017.4.17 in /usr/local/lib/python3.6/dist-packages (from requests->fastai) (2019.3.9)\n",
            "Requirement already satisfied: idna<2.7,>=2.5 in /usr/local/lib/python3.6/dist-packages (from requests->fastai) (2.6)\n",
            "Requirement already satisfied: six in /usr/local/lib/python3.6/dist-packages (from packaging->fastai) (1.11.0)\n",
            "Requirement already satisfied: cytoolz<0.10,>=0.9.0 in /usr/local/lib/python3.6/dist-packages (from thinc<6.13.0,>=6.12.1->spacy>=2.0.18->fastai) (0.9.0.1)\n",
            "Requirement already satisfied: msgpack-numpy<0.4.4 in /usr/local/lib/python3.6/dist-packages (from thinc<6.13.0,>=6.12.1->spacy>=2.0.18->fastai) (0.4.3.2)\n",
            "Requirement already satisfied: msgpack<0.6.0,>=0.5.6 in /usr/local/lib/python3.6/dist-packages (from thinc<6.13.0,>=6.12.1->spacy>=2.0.18->fastai) (0.5.6)\n",
            "Requirement already satisfied: wrapt<1.11.0,>=1.10.0 in /usr/local/lib/python3.6/dist-packages (from thinc<6.13.0,>=6.12.1->spacy>=2.0.18->fastai) (1.10.11)\n",
            "Requirement already satisfied: tqdm<5.0.0,>=4.10.0 in /usr/local/lib/python3.6/dist-packages (from thinc<6.13.0,>=6.12.1->spacy>=2.0.18->fastai) (4.28.1)\n",
            "Requirement already satisfied: setuptools in /usr/local/lib/python3.6/dist-packages (from kiwisolver>=1.0.1->matplotlib->fastai) (40.8.0)\n",
            "Requirement already satisfied: toolz>=0.8.0 in /usr/local/lib/python3.6/dist-packages (from cytoolz<0.10,>=0.9.0->thinc<6.13.0,>=6.12.1->spacy>=2.0.18->fastai) (0.9.0)\n"
          ],
          "name": "stdout"
        }
      ]
    },
    {
      "metadata": {
        "id": "_PkXSSIWc4F9",
        "colab_type": "text"
      },
      "cell_type": "markdown",
      "source": [
        "**EXPLORATORY DATA ANALYSIS (EDA) **"
      ]
    },
    {
      "metadata": {
        "id": "6Y6B8VSQXRmx",
        "colab_type": "code",
        "colab": {}
      },
      "cell_type": "code",
      "source": [
        "# Importing libraries for basic data exploration and visualization\n",
        "import numpy as np  \n",
        "import pandas as pd\n",
        "import matplotlib.pyplot as plt\n",
        "%matplotlib inline"
      ],
      "execution_count": 0,
      "outputs": []
    },
    {
      "metadata": {
        "id": "8F-CO9XXWMex",
        "colab_type": "code",
        "outputId": "1d602278-acfd-48b7-e576-5da00d7d102c",
        "colab": {
          "base_uri": "https://localhost:8080/",
          "height": 445
        }
      },
      "cell_type": "code",
      "source": [
        "# Importing Dataset\n",
        "url = 'https://raw.githubusercontent.com/Praveszh/ULMFiT-for-US-Airline-Sentiment-Analysis/master/Tweets.csv'\n",
        "Airline_tweets = pd.read_csv(url)\n",
        "Airline_tweets.head()      "
      ],
      "execution_count": 4,
      "outputs": [
        {
          "output_type": "execute_result",
          "data": {
            "text/html": [
              "<div>\n",
              "<style scoped>\n",
              "    .dataframe tbody tr th:only-of-type {\n",
              "        vertical-align: middle;\n",
              "    }\n",
              "\n",
              "    .dataframe tbody tr th {\n",
              "        vertical-align: top;\n",
              "    }\n",
              "\n",
              "    .dataframe thead th {\n",
              "        text-align: right;\n",
              "    }\n",
              "</style>\n",
              "<table border=\"1\" class=\"dataframe\">\n",
              "  <thead>\n",
              "    <tr style=\"text-align: right;\">\n",
              "      <th></th>\n",
              "      <th>tweet_id</th>\n",
              "      <th>airline_sentiment</th>\n",
              "      <th>airline_sentiment_confidence</th>\n",
              "      <th>negativereason</th>\n",
              "      <th>negativereason_confidence</th>\n",
              "      <th>airline</th>\n",
              "      <th>airline_sentiment_gold</th>\n",
              "      <th>name</th>\n",
              "      <th>negativereason_gold</th>\n",
              "      <th>retweet_count</th>\n",
              "      <th>text</th>\n",
              "      <th>tweet_coord</th>\n",
              "      <th>tweet_created</th>\n",
              "      <th>tweet_location</th>\n",
              "      <th>user_timezone</th>\n",
              "    </tr>\n",
              "  </thead>\n",
              "  <tbody>\n",
              "    <tr>\n",
              "      <th>0</th>\n",
              "      <td>570306133677760513</td>\n",
              "      <td>neutral</td>\n",
              "      <td>1.0000</td>\n",
              "      <td>NaN</td>\n",
              "      <td>NaN</td>\n",
              "      <td>Virgin America</td>\n",
              "      <td>NaN</td>\n",
              "      <td>cairdin</td>\n",
              "      <td>NaN</td>\n",
              "      <td>0</td>\n",
              "      <td>@VirginAmerica What @dhepburn said.</td>\n",
              "      <td>NaN</td>\n",
              "      <td>2015-02-24 11:35:52 -0800</td>\n",
              "      <td>NaN</td>\n",
              "      <td>Eastern Time (US &amp; Canada)</td>\n",
              "    </tr>\n",
              "    <tr>\n",
              "      <th>1</th>\n",
              "      <td>570301130888122368</td>\n",
              "      <td>positive</td>\n",
              "      <td>0.3486</td>\n",
              "      <td>NaN</td>\n",
              "      <td>0.0000</td>\n",
              "      <td>Virgin America</td>\n",
              "      <td>NaN</td>\n",
              "      <td>jnardino</td>\n",
              "      <td>NaN</td>\n",
              "      <td>0</td>\n",
              "      <td>@VirginAmerica plus you've added commercials t...</td>\n",
              "      <td>NaN</td>\n",
              "      <td>2015-02-24 11:15:59 -0800</td>\n",
              "      <td>NaN</td>\n",
              "      <td>Pacific Time (US &amp; Canada)</td>\n",
              "    </tr>\n",
              "    <tr>\n",
              "      <th>2</th>\n",
              "      <td>570301083672813571</td>\n",
              "      <td>neutral</td>\n",
              "      <td>0.6837</td>\n",
              "      <td>NaN</td>\n",
              "      <td>NaN</td>\n",
              "      <td>Virgin America</td>\n",
              "      <td>NaN</td>\n",
              "      <td>yvonnalynn</td>\n",
              "      <td>NaN</td>\n",
              "      <td>0</td>\n",
              "      <td>@VirginAmerica I didn't today... Must mean I n...</td>\n",
              "      <td>NaN</td>\n",
              "      <td>2015-02-24 11:15:48 -0800</td>\n",
              "      <td>Lets Play</td>\n",
              "      <td>Central Time (US &amp; Canada)</td>\n",
              "    </tr>\n",
              "    <tr>\n",
              "      <th>3</th>\n",
              "      <td>570301031407624196</td>\n",
              "      <td>negative</td>\n",
              "      <td>1.0000</td>\n",
              "      <td>Bad Flight</td>\n",
              "      <td>0.7033</td>\n",
              "      <td>Virgin America</td>\n",
              "      <td>NaN</td>\n",
              "      <td>jnardino</td>\n",
              "      <td>NaN</td>\n",
              "      <td>0</td>\n",
              "      <td>@VirginAmerica it's really aggressive to blast...</td>\n",
              "      <td>NaN</td>\n",
              "      <td>2015-02-24 11:15:36 -0800</td>\n",
              "      <td>NaN</td>\n",
              "      <td>Pacific Time (US &amp; Canada)</td>\n",
              "    </tr>\n",
              "    <tr>\n",
              "      <th>4</th>\n",
              "      <td>570300817074462722</td>\n",
              "      <td>negative</td>\n",
              "      <td>1.0000</td>\n",
              "      <td>Can't Tell</td>\n",
              "      <td>1.0000</td>\n",
              "      <td>Virgin America</td>\n",
              "      <td>NaN</td>\n",
              "      <td>jnardino</td>\n",
              "      <td>NaN</td>\n",
              "      <td>0</td>\n",
              "      <td>@VirginAmerica and it's a really big bad thing...</td>\n",
              "      <td>NaN</td>\n",
              "      <td>2015-02-24 11:14:45 -0800</td>\n",
              "      <td>NaN</td>\n",
              "      <td>Pacific Time (US &amp; Canada)</td>\n",
              "    </tr>\n",
              "  </tbody>\n",
              "</table>\n",
              "</div>"
            ],
            "text/plain": [
              "             tweet_id airline_sentiment  airline_sentiment_confidence  \\\n",
              "0  570306133677760513           neutral                        1.0000   \n",
              "1  570301130888122368          positive                        0.3486   \n",
              "2  570301083672813571           neutral                        0.6837   \n",
              "3  570301031407624196          negative                        1.0000   \n",
              "4  570300817074462722          negative                        1.0000   \n",
              "\n",
              "  negativereason  negativereason_confidence         airline  \\\n",
              "0            NaN                        NaN  Virgin America   \n",
              "1            NaN                     0.0000  Virgin America   \n",
              "2            NaN                        NaN  Virgin America   \n",
              "3     Bad Flight                     0.7033  Virgin America   \n",
              "4     Can't Tell                     1.0000  Virgin America   \n",
              "\n",
              "  airline_sentiment_gold        name negativereason_gold  retweet_count  \\\n",
              "0                    NaN     cairdin                 NaN              0   \n",
              "1                    NaN    jnardino                 NaN              0   \n",
              "2                    NaN  yvonnalynn                 NaN              0   \n",
              "3                    NaN    jnardino                 NaN              0   \n",
              "4                    NaN    jnardino                 NaN              0   \n",
              "\n",
              "                                                text tweet_coord  \\\n",
              "0                @VirginAmerica What @dhepburn said.         NaN   \n",
              "1  @VirginAmerica plus you've added commercials t...         NaN   \n",
              "2  @VirginAmerica I didn't today... Must mean I n...         NaN   \n",
              "3  @VirginAmerica it's really aggressive to blast...         NaN   \n",
              "4  @VirginAmerica and it's a really big bad thing...         NaN   \n",
              "\n",
              "               tweet_created tweet_location               user_timezone  \n",
              "0  2015-02-24 11:35:52 -0800            NaN  Eastern Time (US & Canada)  \n",
              "1  2015-02-24 11:15:59 -0800            NaN  Pacific Time (US & Canada)  \n",
              "2  2015-02-24 11:15:48 -0800      Lets Play  Central Time (US & Canada)  \n",
              "3  2015-02-24 11:15:36 -0800            NaN  Pacific Time (US & Canada)  \n",
              "4  2015-02-24 11:14:45 -0800            NaN  Pacific Time (US & Canada)  "
            ]
          },
          "metadata": {
            "tags": []
          },
          "execution_count": 4
        }
      ]
    },
    {
      "metadata": {
        "id": "xaEKqqzh2NwX",
        "colab_type": "code",
        "outputId": "58d665f4-2fda-45a1-a1e5-3895e5e256ad",
        "colab": {
          "base_uri": "https://localhost:8080/",
          "height": 34
        }
      },
      "cell_type": "code",
      "source": [
        "print(Airline_tweets.shape)"
      ],
      "execution_count": 5,
      "outputs": [
        {
          "output_type": "stream",
          "text": [
            "(14640, 15)\n"
          ],
          "name": "stdout"
        }
      ]
    },
    {
      "metadata": {
        "id": "LMApgPnzabL3",
        "colab_type": "code",
        "outputId": "e865b26c-1ef3-409a-8352-7cc6f9875fd0",
        "colab": {
          "base_uri": "https://localhost:8080/",
          "height": 289
        }
      },
      "cell_type": "code",
      "source": [
        "# Getting the length of the strings in each column.\n",
        "# So,we can drop those columns for better view to understand the dataset\n",
        "(len(Airline_tweets)-Airline_tweets.count())/len(Airline_tweets)"
      ],
      "execution_count": 6,
      "outputs": [
        {
          "output_type": "execute_result",
          "data": {
            "text/plain": [
              "tweet_id                        0.000000\n",
              "airline_sentiment               0.000000\n",
              "airline_sentiment_confidence    0.000000\n",
              "negativereason                  0.373087\n",
              "negativereason_confidence       0.281284\n",
              "airline                         0.000000\n",
              "airline_sentiment_gold          0.997268\n",
              "name                            0.000000\n",
              "negativereason_gold             0.997814\n",
              "retweet_count                   0.000000\n",
              "text                            0.000000\n",
              "tweet_coord                     0.930396\n",
              "tweet_created                   0.000000\n",
              "tweet_location                  0.323292\n",
              "user_timezone                   0.329235\n",
              "dtype: float64"
            ]
          },
          "metadata": {
            "tags": []
          },
          "execution_count": 6
        }
      ]
    },
    {
      "metadata": {
        "id": "uXJoYZ2Magwk",
        "colab_type": "code",
        "outputId": "daa81d14-eb0a-4aed-d7c9-53c7bd851741",
        "colab": {
          "base_uri": "https://localhost:8080/",
          "height": 289
        }
      },
      "cell_type": "code",
      "source": [
        "# Dropping the several columns for the better view & understanding of the dataset\n",
        "\n",
        "Airline_tweets.drop(Airline_tweets.columns[[2,4,6,8,11,12]], axis=1, inplace=True)\n",
        "Airline_tweets.head()"
      ],
      "execution_count": 7,
      "outputs": [
        {
          "output_type": "execute_result",
          "data": {
            "text/html": [
              "<div>\n",
              "<style scoped>\n",
              "    .dataframe tbody tr th:only-of-type {\n",
              "        vertical-align: middle;\n",
              "    }\n",
              "\n",
              "    .dataframe tbody tr th {\n",
              "        vertical-align: top;\n",
              "    }\n",
              "\n",
              "    .dataframe thead th {\n",
              "        text-align: right;\n",
              "    }\n",
              "</style>\n",
              "<table border=\"1\" class=\"dataframe\">\n",
              "  <thead>\n",
              "    <tr style=\"text-align: right;\">\n",
              "      <th></th>\n",
              "      <th>tweet_id</th>\n",
              "      <th>airline_sentiment</th>\n",
              "      <th>negativereason</th>\n",
              "      <th>airline</th>\n",
              "      <th>name</th>\n",
              "      <th>retweet_count</th>\n",
              "      <th>text</th>\n",
              "      <th>tweet_location</th>\n",
              "      <th>user_timezone</th>\n",
              "    </tr>\n",
              "  </thead>\n",
              "  <tbody>\n",
              "    <tr>\n",
              "      <th>0</th>\n",
              "      <td>570306133677760513</td>\n",
              "      <td>neutral</td>\n",
              "      <td>NaN</td>\n",
              "      <td>Virgin America</td>\n",
              "      <td>cairdin</td>\n",
              "      <td>0</td>\n",
              "      <td>@VirginAmerica What @dhepburn said.</td>\n",
              "      <td>NaN</td>\n",
              "      <td>Eastern Time (US &amp; Canada)</td>\n",
              "    </tr>\n",
              "    <tr>\n",
              "      <th>1</th>\n",
              "      <td>570301130888122368</td>\n",
              "      <td>positive</td>\n",
              "      <td>NaN</td>\n",
              "      <td>Virgin America</td>\n",
              "      <td>jnardino</td>\n",
              "      <td>0</td>\n",
              "      <td>@VirginAmerica plus you've added commercials t...</td>\n",
              "      <td>NaN</td>\n",
              "      <td>Pacific Time (US &amp; Canada)</td>\n",
              "    </tr>\n",
              "    <tr>\n",
              "      <th>2</th>\n",
              "      <td>570301083672813571</td>\n",
              "      <td>neutral</td>\n",
              "      <td>NaN</td>\n",
              "      <td>Virgin America</td>\n",
              "      <td>yvonnalynn</td>\n",
              "      <td>0</td>\n",
              "      <td>@VirginAmerica I didn't today... Must mean I n...</td>\n",
              "      <td>Lets Play</td>\n",
              "      <td>Central Time (US &amp; Canada)</td>\n",
              "    </tr>\n",
              "    <tr>\n",
              "      <th>3</th>\n",
              "      <td>570301031407624196</td>\n",
              "      <td>negative</td>\n",
              "      <td>Bad Flight</td>\n",
              "      <td>Virgin America</td>\n",
              "      <td>jnardino</td>\n",
              "      <td>0</td>\n",
              "      <td>@VirginAmerica it's really aggressive to blast...</td>\n",
              "      <td>NaN</td>\n",
              "      <td>Pacific Time (US &amp; Canada)</td>\n",
              "    </tr>\n",
              "    <tr>\n",
              "      <th>4</th>\n",
              "      <td>570300817074462722</td>\n",
              "      <td>negative</td>\n",
              "      <td>Can't Tell</td>\n",
              "      <td>Virgin America</td>\n",
              "      <td>jnardino</td>\n",
              "      <td>0</td>\n",
              "      <td>@VirginAmerica and it's a really big bad thing...</td>\n",
              "      <td>NaN</td>\n",
              "      <td>Pacific Time (US &amp; Canada)</td>\n",
              "    </tr>\n",
              "  </tbody>\n",
              "</table>\n",
              "</div>"
            ],
            "text/plain": [
              "             tweet_id airline_sentiment negativereason         airline  \\\n",
              "0  570306133677760513           neutral            NaN  Virgin America   \n",
              "1  570301130888122368          positive            NaN  Virgin America   \n",
              "2  570301083672813571           neutral            NaN  Virgin America   \n",
              "3  570301031407624196          negative     Bad Flight  Virgin America   \n",
              "4  570300817074462722          negative     Can't Tell  Virgin America   \n",
              "\n",
              "         name  retweet_count  \\\n",
              "0     cairdin              0   \n",
              "1    jnardino              0   \n",
              "2  yvonnalynn              0   \n",
              "3    jnardino              0   \n",
              "4    jnardino              0   \n",
              "\n",
              "                                                text tweet_location  \\\n",
              "0                @VirginAmerica What @dhepburn said.            NaN   \n",
              "1  @VirginAmerica plus you've added commercials t...            NaN   \n",
              "2  @VirginAmerica I didn't today... Must mean I n...      Lets Play   \n",
              "3  @VirginAmerica it's really aggressive to blast...            NaN   \n",
              "4  @VirginAmerica and it's a really big bad thing...            NaN   \n",
              "\n",
              "                user_timezone  \n",
              "0  Eastern Time (US & Canada)  \n",
              "1  Pacific Time (US & Canada)  \n",
              "2  Central Time (US & Canada)  \n",
              "3  Pacific Time (US & Canada)  \n",
              "4  Pacific Time (US & Canada)  "
            ]
          },
          "metadata": {
            "tags": []
          },
          "execution_count": 7
        }
      ]
    },
    {
      "metadata": {
        "id": "ALJ1MYWoalCM",
        "colab_type": "code",
        "outputId": "f20a46e0-a055-48aa-e2db-870d27f1d480",
        "colab": {
          "base_uri": "https://localhost:8080/",
          "height": 153
        }
      },
      "cell_type": "code",
      "source": [
        "# Analyzing the tweets by grouping airline and airline_sentiment\n",
        "\n",
        "sentiment_polarity = Airline_tweets.groupby([\"airline\",\"airline_sentiment\"]).size().unstack()\n",
        "print(sentiment_polarity)"
      ],
      "execution_count": 8,
      "outputs": [
        {
          "output_type": "stream",
          "text": [
            "airline_sentiment  negative  neutral  positive\n",
            "airline                                       \n",
            "American               1960      463       336\n",
            "Delta                   955      723       544\n",
            "Southwest              1186      664       570\n",
            "US Airways             2263      381       269\n",
            "United                 2633      697       492\n",
            "Virgin America          181      171       152\n"
          ],
          "name": "stdout"
        }
      ]
    },
    {
      "metadata": {
        "id": "nxc7iHfeaqg-",
        "colab_type": "code",
        "outputId": "72140576-4cdb-4c55-c40d-7b2873a98f69",
        "colab": {
          "base_uri": "https://localhost:8080/",
          "height": 342
        }
      },
      "cell_type": "code",
      "source": [
        "# Plotting sentiment_polarity of each airline\n",
        "\n",
        "ax = sentiment_polarity.plot.bar(stacked=True)\n",
        "plt.ylabel('Number of Tweets')\n",
        "plt.xticks(rotation=45)\n",
        "plt.legend(bbox_to_anchor=(1.05, 1), loc=2, borderaxespad=0.)\n",
        "\n"
      ],
      "execution_count": 9,
      "outputs": [
        {
          "output_type": "execute_result",
          "data": {
            "text/plain": [
              "<matplotlib.legend.Legend at 0x7f491dfe0208>"
            ]
          },
          "metadata": {
            "tags": []
          },
          "execution_count": 9
        },
        {
          "output_type": "display_data",
          "data": {
            "image/png": "[encoded data removed]",
            "text/plain": [
              "<Figure size 432x288 with 1 Axes>"
            ]
          },
          "metadata": {
            "tags": []
          }
        }
      ]
    },
    {
      "metadata": {
        "id": "ai5w5_t0atCi",
        "colab_type": "code",
        "outputId": "ca231fad-2553-42cf-e440-9f0668f79e14",
        "colab": {
          "base_uri": "https://localhost:8080/",
          "height": 314
        }
      },
      "cell_type": "code",
      "source": [
        "# Crosstab for each negative reason and airlines\n",
        "\n",
        "pd.crosstab(Airline_tweets.airline, Airline_tweets.negativereason, margins=True, margins_name=\"Total\")"
      ],
      "execution_count": 10,
      "outputs": [
        {
          "output_type": "execute_result",
          "data": {
            "text/html": [
              "<div>\n",
              "<style scoped>\n",
              "    .dataframe tbody tr th:only-of-type {\n",
              "        vertical-align: middle;\n",
              "    }\n",
              "\n",
              "    .dataframe tbody tr th {\n",
              "        vertical-align: top;\n",
              "    }\n",
              "\n",
              "    .dataframe thead th {\n",
              "        text-align: right;\n",
              "    }\n",
              "</style>\n",
              "<table border=\"1\" class=\"dataframe\">\n",
              "  <thead>\n",
              "    <tr style=\"text-align: right;\">\n",
              "      <th>negativereason</th>\n",
              "      <th>Bad Flight</th>\n",
              "      <th>Can't Tell</th>\n",
              "      <th>Cancelled Flight</th>\n",
              "      <th>Customer Service Issue</th>\n",
              "      <th>Damaged Luggage</th>\n",
              "      <th>Flight Attendant Complaints</th>\n",
              "      <th>Flight Booking Problems</th>\n",
              "      <th>Late Flight</th>\n",
              "      <th>Lost Luggage</th>\n",
              "      <th>longlines</th>\n",
              "      <th>Total</th>\n",
              "    </tr>\n",
              "    <tr>\n",
              "      <th>airline</th>\n",
              "      <th></th>\n",
              "      <th></th>\n",
              "      <th></th>\n",
              "      <th></th>\n",
              "      <th></th>\n",
              "      <th></th>\n",
              "      <th></th>\n",
              "      <th></th>\n",
              "      <th></th>\n",
              "      <th></th>\n",
              "      <th></th>\n",
              "    </tr>\n",
              "  </thead>\n",
              "  <tbody>\n",
              "    <tr>\n",
              "      <th>American</th>\n",
              "      <td>87</td>\n",
              "      <td>198</td>\n",
              "      <td>246</td>\n",
              "      <td>768</td>\n",
              "      <td>12</td>\n",
              "      <td>87</td>\n",
              "      <td>130</td>\n",
              "      <td>249</td>\n",
              "      <td>149</td>\n",
              "      <td>34</td>\n",
              "      <td>1960</td>\n",
              "    </tr>\n",
              "    <tr>\n",
              "      <th>Delta</th>\n",
              "      <td>64</td>\n",
              "      <td>186</td>\n",
              "      <td>51</td>\n",
              "      <td>199</td>\n",
              "      <td>11</td>\n",
              "      <td>60</td>\n",
              "      <td>44</td>\n",
              "      <td>269</td>\n",
              "      <td>57</td>\n",
              "      <td>14</td>\n",
              "      <td>955</td>\n",
              "    </tr>\n",
              "    <tr>\n",
              "      <th>Southwest</th>\n",
              "      <td>90</td>\n",
              "      <td>159</td>\n",
              "      <td>162</td>\n",
              "      <td>391</td>\n",
              "      <td>14</td>\n",
              "      <td>38</td>\n",
              "      <td>61</td>\n",
              "      <td>152</td>\n",
              "      <td>90</td>\n",
              "      <td>29</td>\n",
              "      <td>1186</td>\n",
              "    </tr>\n",
              "    <tr>\n",
              "      <th>US Airways</th>\n",
              "      <td>104</td>\n",
              "      <td>246</td>\n",
              "      <td>189</td>\n",
              "      <td>811</td>\n",
              "      <td>11</td>\n",
              "      <td>123</td>\n",
              "      <td>122</td>\n",
              "      <td>453</td>\n",
              "      <td>154</td>\n",
              "      <td>50</td>\n",
              "      <td>2263</td>\n",
              "    </tr>\n",
              "    <tr>\n",
              "      <th>United</th>\n",
              "      <td>216</td>\n",
              "      <td>379</td>\n",
              "      <td>181</td>\n",
              "      <td>681</td>\n",
              "      <td>22</td>\n",
              "      <td>168</td>\n",
              "      <td>144</td>\n",
              "      <td>525</td>\n",
              "      <td>269</td>\n",
              "      <td>48</td>\n",
              "      <td>2633</td>\n",
              "    </tr>\n",
              "    <tr>\n",
              "      <th>Virgin America</th>\n",
              "      <td>19</td>\n",
              "      <td>22</td>\n",
              "      <td>18</td>\n",
              "      <td>60</td>\n",
              "      <td>4</td>\n",
              "      <td>5</td>\n",
              "      <td>28</td>\n",
              "      <td>17</td>\n",
              "      <td>5</td>\n",
              "      <td>3</td>\n",
              "      <td>181</td>\n",
              "    </tr>\n",
              "    <tr>\n",
              "      <th>Total</th>\n",
              "      <td>580</td>\n",
              "      <td>1190</td>\n",
              "      <td>847</td>\n",
              "      <td>2910</td>\n",
              "      <td>74</td>\n",
              "      <td>481</td>\n",
              "      <td>529</td>\n",
              "      <td>1665</td>\n",
              "      <td>724</td>\n",
              "      <td>178</td>\n",
              "      <td>9178</td>\n",
              "    </tr>\n",
              "  </tbody>\n",
              "</table>\n",
              "</div>"
            ],
            "text/plain": [
              "negativereason  Bad Flight  Can't Tell  Cancelled Flight  \\\n",
              "airline                                                    \n",
              "American                87         198               246   \n",
              "Delta                   64         186                51   \n",
              "Southwest               90         159               162   \n",
              "US Airways             104         246               189   \n",
              "United                 216         379               181   \n",
              "Virgin America          19          22                18   \n",
              "Total                  580        1190               847   \n",
              "\n",
              "negativereason  Customer Service Issue  Damaged Luggage  \\\n",
              "airline                                                   \n",
              "American                           768               12   \n",
              "Delta                              199               11   \n",
              "Southwest                          391               14   \n",
              "US Airways                         811               11   \n",
              "United                             681               22   \n",
              "Virgin America                      60                4   \n",
              "Total                             2910               74   \n",
              "\n",
              "negativereason  Flight Attendant Complaints  Flight Booking Problems  \\\n",
              "airline                                                                \n",
              "American                                 87                      130   \n",
              "Delta                                    60                       44   \n",
              "Southwest                                38                       61   \n",
              "US Airways                              123                      122   \n",
              "United                                  168                      144   \n",
              "Virgin America                            5                       28   \n",
              "Total                                   481                      529   \n",
              "\n",
              "negativereason  Late Flight  Lost Luggage  longlines  Total  \n",
              "airline                                                      \n",
              "American                249           149         34   1960  \n",
              "Delta                   269            57         14    955  \n",
              "Southwest               152            90         29   1186  \n",
              "US Airways              453           154         50   2263  \n",
              "United                  525           269         48   2633  \n",
              "Virgin America           17             5          3    181  \n",
              "Total                  1665           724        178   9178  "
            ]
          },
          "metadata": {
            "tags": []
          },
          "execution_count": 10
        }
      ]
    },
    {
      "metadata": {
        "id": "MqM6ndrnavOO",
        "colab_type": "code",
        "outputId": "2a1e84f2-5106-4876-8f94-a3351182db15",
        "colab": {
          "base_uri": "https://localhost:8080/",
          "height": 351
        }
      },
      "cell_type": "code",
      "source": [
        "# Plotting a stacked bar graph for negative reasons and airlines\n",
        "\n",
        "ax1 = pd.crosstab(Airline_tweets.airline, Airline_tweets.negativereason)\n",
        "ax1.plot.bar(stacked=True)\n",
        "plt.legend(bbox_to_anchor=(1.05, 1),title='negativereason',loc =2,borderaxespad=1.4)"
      ],
      "execution_count": 11,
      "outputs": [
        {
          "output_type": "execute_result",
          "data": {
            "text/plain": [
              "<matplotlib.legend.Legend at 0x7f491aea2c18>"
            ]
          },
          "metadata": {
            "tags": []
          },
          "execution_count": 11
        },
        {
          "output_type": "display_data",
          "data": {
            "image/png": "[encoded data removed]",
            "text/plain": [
              "<Figure size 432x288 with 1 Axes>"
            ]
          },
          "metadata": {
            "tags": []
          }
        }
      ]
    },
    {
      "metadata": {
        "id": "4sEJr7L6FCqa",
        "colab_type": "text"
      },
      "cell_type": "markdown",
      "source": [
        "**DATA PREPROCESSING :**"
      ]
    },
    {
      "metadata": {
        "id": "r8cTtf8JaxUG",
        "colab_type": "code",
        "outputId": "32bd47ea-dd06-4104-916e-b12ba5bf5fd6",
        "colab": {
          "base_uri": "https://localhost:8080/",
          "height": 289
        }
      },
      "cell_type": "code",
      "source": [
        "# Adding a new column(label) assuming with values \n",
        "# POS:1,NEG:-1,NEUT:0\n",
        "def label(x):\n",
        "    if x=='negative':\n",
        "        return -1\n",
        "    elif x=='positive':\n",
        "        return 1\n",
        "    return 0\n",
        "Airline_tweets['label'] = Airline_tweets['airline_sentiment'].apply(label)\n",
        "Airline_tweets.head()"
      ],
      "execution_count": 12,
      "outputs": [
        {
          "output_type": "execute_result",
          "data": {
            "text/html": [
              "<div>\n",
              "<style scoped>\n",
              "    .dataframe tbody tr th:only-of-type {\n",
              "        vertical-align: middle;\n",
              "    }\n",
              "\n",
              "    .dataframe tbody tr th {\n",
              "        vertical-align: top;\n",
              "    }\n",
              "\n",
              "    .dataframe thead th {\n",
              "        text-align: right;\n",
              "    }\n",
              "</style>\n",
              "<table border=\"1\" class=\"dataframe\">\n",
              "  <thead>\n",
              "    <tr style=\"text-align: right;\">\n",
              "      <th></th>\n",
              "      <th>tweet_id</th>\n",
              "      <th>airline_sentiment</th>\n",
              "      <th>negativereason</th>\n",
              "      <th>airline</th>\n",
              "      <th>name</th>\n",
              "      <th>retweet_count</th>\n",
              "      <th>text</th>\n",
              "      <th>tweet_location</th>\n",
              "      <th>user_timezone</th>\n",
              "      <th>label</th>\n",
              "    </tr>\n",
              "  </thead>\n",
              "  <tbody>\n",
              "    <tr>\n",
              "      <th>0</th>\n",
              "      <td>570306133677760513</td>\n",
              "      <td>neutral</td>\n",
              "      <td>NaN</td>\n",
              "      <td>Virgin America</td>\n",
              "      <td>cairdin</td>\n",
              "      <td>0</td>\n",
              "      <td>@VirginAmerica What @dhepburn said.</td>\n",
              "      <td>NaN</td>\n",
              "      <td>Eastern Time (US &amp; Canada)</td>\n",
              "      <td>0</td>\n",
              "    </tr>\n",
              "    <tr>\n",
              "      <th>1</th>\n",
              "      <td>570301130888122368</td>\n",
              "      <td>positive</td>\n",
              "      <td>NaN</td>\n",
              "      <td>Virgin America</td>\n",
              "      <td>jnardino</td>\n",
              "      <td>0</td>\n",
              "      <td>@VirginAmerica plus you've added commercials t...</td>\n",
              "      <td>NaN</td>\n",
              "      <td>Pacific Time (US &amp; Canada)</td>\n",
              "      <td>1</td>\n",
              "    </tr>\n",
              "    <tr>\n",
              "      <th>2</th>\n",
              "      <td>570301083672813571</td>\n",
              "      <td>neutral</td>\n",
              "      <td>NaN</td>\n",
              "      <td>Virgin America</td>\n",
              "      <td>yvonnalynn</td>\n",
              "      <td>0</td>\n",
              "      <td>@VirginAmerica I didn't today... Must mean I n...</td>\n",
              "      <td>Lets Play</td>\n",
              "      <td>Central Time (US &amp; Canada)</td>\n",
              "      <td>0</td>\n",
              "    </tr>\n",
              "    <tr>\n",
              "      <th>3</th>\n",
              "      <td>570301031407624196</td>\n",
              "      <td>negative</td>\n",
              "      <td>Bad Flight</td>\n",
              "      <td>Virgin America</td>\n",
              "      <td>jnardino</td>\n",
              "      <td>0</td>\n",
              "      <td>@VirginAmerica it's really aggressive to blast...</td>\n",
              "      <td>NaN</td>\n",
              "      <td>Pacific Time (US &amp; Canada)</td>\n",
              "      <td>-1</td>\n",
              "    </tr>\n",
              "    <tr>\n",
              "      <th>4</th>\n",
              "      <td>570300817074462722</td>\n",
              "      <td>negative</td>\n",
              "      <td>Can't Tell</td>\n",
              "      <td>Virgin America</td>\n",
              "      <td>jnardino</td>\n",
              "      <td>0</td>\n",
              "      <td>@VirginAmerica and it's a really big bad thing...</td>\n",
              "      <td>NaN</td>\n",
              "      <td>Pacific Time (US &amp; Canada)</td>\n",
              "      <td>-1</td>\n",
              "    </tr>\n",
              "  </tbody>\n",
              "</table>\n",
              "</div>"
            ],
            "text/plain": [
              "             tweet_id airline_sentiment negativereason         airline  \\\n",
              "0  570306133677760513           neutral            NaN  Virgin America   \n",
              "1  570301130888122368          positive            NaN  Virgin America   \n",
              "2  570301083672813571           neutral            NaN  Virgin America   \n",
              "3  570301031407624196          negative     Bad Flight  Virgin America   \n",
              "4  570300817074462722          negative     Can't Tell  Virgin America   \n",
              "\n",
              "         name  retweet_count  \\\n",
              "0     cairdin              0   \n",
              "1    jnardino              0   \n",
              "2  yvonnalynn              0   \n",
              "3    jnardino              0   \n",
              "4    jnardino              0   \n",
              "\n",
              "                                                text tweet_location  \\\n",
              "0                @VirginAmerica What @dhepburn said.            NaN   \n",
              "1  @VirginAmerica plus you've added commercials t...            NaN   \n",
              "2  @VirginAmerica I didn't today... Must mean I n...      Lets Play   \n",
              "3  @VirginAmerica it's really aggressive to blast...            NaN   \n",
              "4  @VirginAmerica and it's a really big bad thing...            NaN   \n",
              "\n",
              "                user_timezone  label  \n",
              "0  Eastern Time (US & Canada)      0  \n",
              "1  Pacific Time (US & Canada)      1  \n",
              "2  Central Time (US & Canada)      0  \n",
              "3  Pacific Time (US & Canada)     -1  \n",
              "4  Pacific Time (US & Canada)     -1  "
            ]
          },
          "metadata": {
            "tags": []
          },
          "execution_count": 12
        }
      ]
    },
    {
      "metadata": {
        "id": "HGe5mHiza0Ly",
        "colab_type": "code",
        "outputId": "b52971dd-3356-468f-ada3-30930f8f426a",
        "colab": {
          "base_uri": "https://localhost:8080/",
          "height": 204
        }
      },
      "cell_type": "code",
      "source": [
        "# We need only two columns(label,text) to work with:\n",
        "# convert those columns into a new dataframe\n",
        "df = pd.DataFrame(Airline_tweets[['label','text']])\n",
        "df.head()"
      ],
      "execution_count": 13,
      "outputs": [
        {
          "output_type": "execute_result",
          "data": {
            "text/html": [
              "<div>\n",
              "<style scoped>\n",
              "    .dataframe tbody tr th:only-of-type {\n",
              "        vertical-align: middle;\n",
              "    }\n",
              "\n",
              "    .dataframe tbody tr th {\n",
              "        vertical-align: top;\n",
              "    }\n",
              "\n",
              "    .dataframe thead th {\n",
              "        text-align: right;\n",
              "    }\n",
              "</style>\n",
              "<table border=\"1\" class=\"dataframe\">\n",
              "  <thead>\n",
              "    <tr style=\"text-align: right;\">\n",
              "      <th></th>\n",
              "      <th>label</th>\n",
              "      <th>text</th>\n",
              "    </tr>\n",
              "  </thead>\n",
              "  <tbody>\n",
              "    <tr>\n",
              "      <th>0</th>\n",
              "      <td>0</td>\n",
              "      <td>@VirginAmerica What @dhepburn said.</td>\n",
              "    </tr>\n",
              "    <tr>\n",
              "      <th>1</th>\n",
              "      <td>1</td>\n",
              "      <td>@VirginAmerica plus you've added commercials t...</td>\n",
              "    </tr>\n",
              "    <tr>\n",
              "      <th>2</th>\n",
              "      <td>0</td>\n",
              "      <td>@VirginAmerica I didn't today... Must mean I n...</td>\n",
              "    </tr>\n",
              "    <tr>\n",
              "      <th>3</th>\n",
              "      <td>-1</td>\n",
              "      <td>@VirginAmerica it's really aggressive to blast...</td>\n",
              "    </tr>\n",
              "    <tr>\n",
              "      <th>4</th>\n",
              "      <td>-1</td>\n",
              "      <td>@VirginAmerica and it's a really big bad thing...</td>\n",
              "    </tr>\n",
              "  </tbody>\n",
              "</table>\n",
              "</div>"
            ],
            "text/plain": [
              "   label                                               text\n",
              "0      0                @VirginAmerica What @dhepburn said.\n",
              "1      1  @VirginAmerica plus you've added commercials t...\n",
              "2      0  @VirginAmerica I didn't today... Must mean I n...\n",
              "3     -1  @VirginAmerica it's really aggressive to blast...\n",
              "4     -1  @VirginAmerica and it's a really big bad thing..."
            ]
          },
          "metadata": {
            "tags": []
          },
          "execution_count": 13
        }
      ]
    },
    {
      "metadata": {
        "id": "Yp-Vb6wX3_4D",
        "colab_type": "text"
      },
      "cell_type": "markdown",
      "source": [
        "**DATA CLEANING **"
      ]
    },
    {
      "metadata": {
        "id": "X2KKakt4-ZrL",
        "colab_type": "code",
        "outputId": "a87989b0-7335-4445-da4b-311195c2b857",
        "colab": {
          "base_uri": "https://localhost:8080/",
          "height": 359
        }
      },
      "cell_type": "code",
      "source": [
        "# Importing regular expression \n",
        "\n",
        "import re\n",
        "\n",
        "# Removing all the mentions at the beginning of each tweet since and\n",
        "# emoji's they have no role in sentiment.\n",
        "\n",
        "def remove_mentions(input_text):\n",
        "  return re.sub(r'@\\w+', '', input_text)\n",
        "df.text = df.text.apply(remove_mentions)\n",
        "df['text'] = df['text'].apply((lambda x: re.sub('[^a-zA-Z0-9,;:!?.\\s]','',x)))\n",
        "df.head(10)\n"
      ],
      "execution_count": 14,
      "outputs": [
        {
          "output_type": "execute_result",
          "data": {
            "text/html": [
              "<div>\n",
              "<style scoped>\n",
              "    .dataframe tbody tr th:only-of-type {\n",
              "        vertical-align: middle;\n",
              "    }\n",
              "\n",
              "    .dataframe tbody tr th {\n",
              "        vertical-align: top;\n",
              "    }\n",
              "\n",
              "    .dataframe thead th {\n",
              "        text-align: right;\n",
              "    }\n",
              "</style>\n",
              "<table border=\"1\" class=\"dataframe\">\n",
              "  <thead>\n",
              "    <tr style=\"text-align: right;\">\n",
              "      <th></th>\n",
              "      <th>label</th>\n",
              "      <th>text</th>\n",
              "    </tr>\n",
              "  </thead>\n",
              "  <tbody>\n",
              "    <tr>\n",
              "      <th>0</th>\n",
              "      <td>0</td>\n",
              "      <td>What  said.</td>\n",
              "    </tr>\n",
              "    <tr>\n",
              "      <th>1</th>\n",
              "      <td>1</td>\n",
              "      <td>plus youve added commercials to the experienc...</td>\n",
              "    </tr>\n",
              "    <tr>\n",
              "      <th>2</th>\n",
              "      <td>0</td>\n",
              "      <td>I didnt today... Must mean I need to take ano...</td>\n",
              "    </tr>\n",
              "    <tr>\n",
              "      <th>3</th>\n",
              "      <td>-1</td>\n",
              "      <td>its really aggressive to blast obnoxious ente...</td>\n",
              "    </tr>\n",
              "    <tr>\n",
              "      <th>4</th>\n",
              "      <td>-1</td>\n",
              "      <td>and its a really big bad thing about it</td>\n",
              "    </tr>\n",
              "    <tr>\n",
              "      <th>5</th>\n",
              "      <td>-1</td>\n",
              "      <td>seriously would pay 30 a flight for seats tha...</td>\n",
              "    </tr>\n",
              "    <tr>\n",
              "      <th>6</th>\n",
              "      <td>1</td>\n",
              "      <td>yes, nearly every time I fly VX this ear worm...</td>\n",
              "    </tr>\n",
              "    <tr>\n",
              "      <th>7</th>\n",
              "      <td>0</td>\n",
              "      <td>Really missed a prime opportunity for Men Wit...</td>\n",
              "    </tr>\n",
              "    <tr>\n",
              "      <th>8</th>\n",
              "      <td>1</td>\n",
              "      <td>Well, I didntbut NOW I DO! :D</td>\n",
              "    </tr>\n",
              "    <tr>\n",
              "      <th>9</th>\n",
              "      <td>1</td>\n",
              "      <td>it was amazing, and arrived an hour early. Yo...</td>\n",
              "    </tr>\n",
              "  </tbody>\n",
              "</table>\n",
              "</div>"
            ],
            "text/plain": [
              "   label                                               text\n",
              "0      0                                        What  said.\n",
              "1      1   plus youve added commercials to the experienc...\n",
              "2      0   I didnt today... Must mean I need to take ano...\n",
              "3     -1   its really aggressive to blast obnoxious ente...\n",
              "4     -1            and its a really big bad thing about it\n",
              "5     -1   seriously would pay 30 a flight for seats tha...\n",
              "6      1   yes, nearly every time I fly VX this ear worm...\n",
              "7      0   Really missed a prime opportunity for Men Wit...\n",
              "8      1                      Well, I didntbut NOW I DO! :D\n",
              "9      1   it was amazing, and arrived an hour early. Yo..."
            ]
          },
          "metadata": {
            "tags": []
          },
          "execution_count": 14
        }
      ]
    },
    {
      "metadata": {
        "id": "_R7LRl4O93wB",
        "colab_type": "code",
        "colab": {}
      },
      "cell_type": "code",
      "source": [
        "# Converting new dataframe into a CSV File\n",
        "df.to_csv('texts.csv', index=False)\n",
        "\n",
        "# Making a directory for repository\n",
        "!mkdir repo"
      ],
      "execution_count": 0,
      "outputs": []
    },
    {
      "metadata": {
        "id": "HEAExx4VZTlJ",
        "colab_type": "code",
        "colab": {}
      },
      "cell_type": "code",
      "source": [
        "# Moving the text.csv file to repository \n",
        "!mv texts.csv /content/repo\n"
      ],
      "execution_count": 0,
      "outputs": []
    },
    {
      "metadata": {
        "id": "e6CYn3B-7UEt",
        "colab_type": "text"
      },
      "cell_type": "markdown",
      "source": [
        "#  ULMFiT"
      ]
    },
    {
      "metadata": {
        "id": "XMtZGAyR7SDv",
        "colab_type": "code",
        "colab": {}
      },
      "cell_type": "code",
      "source": [
        "# Importing Libraries\n",
        "\n",
        "import fastai\n",
        "from fastai import *\n",
        "from fastai.text import *\n",
        "from fastai.core import *"
      ],
      "execution_count": 0,
      "outputs": []
    },
    {
      "metadata": {
        "id": "DBkEPQuW9rv-",
        "colab_type": "code",
        "colab": {}
      },
      "cell_type": "code",
      "source": [
        "# Assigning the path\n",
        "\n",
        "path = Path('repo')"
      ],
      "execution_count": 0,
      "outputs": []
    },
    {
      "metadata": {
        "id": "KCWo5lVL7w7o",
        "colab_type": "text"
      },
      "cell_type": "markdown",
      "source": [
        "**GETTING OUR DATA READY FOR THE  MODELING**\n",
        "\n",
        "To get a DataBunch quickly, there are also several factory methods depending on how our data is structured. They are all detailed in [text.data](https://docs.fast.ai/text.data.html), here we'll use the method [from_csv](https://docs.fast.ai/text.data.html#TextDataBunch.from_csv) of the [TextLMDataBunch](https://docs.fast.ai/text.data.html#TextLMDataBunch) (to get the data ready for a language model) and [TextClasDataBunch](https://) (to get the data ready for a text classifier) classes.\n",
        "The TextLMDataBunch class creates a TextDataBunch suitable for training a language model. All the texts in the datasets are concatenated and the labels are ignored. Instead, the target is the next word in the sentence. "
      ]
    },
    {
      "metadata": {
        "id": "inJjG16DhZ3T",
        "colab_type": "code",
        "colab": {}
      },
      "cell_type": "code",
      "source": [
        "# Building our DataBunches for LM fine-tuning and classification\n",
        "# Language model data\n",
        "data_lm = TextLMDataBunch.from_csv(path, 'texts.csv')\n",
        "\n",
        "# Classifier model data\n",
        "data_clas = TextClasDataBunch.from_csv(path, 'texts.csv', vocab=data_lm.train_ds.vocab, bs=32)\n"
      ],
      "execution_count": 0,
      "outputs": []
    },
    {
      "metadata": {
        "id": "13_RmOGO_m5m",
        "colab_type": "text"
      },
      "cell_type": "markdown",
      "source": [
        "This does all the necessary preprocessing behind the scene. For the classifier, we also pass the vocabulary (mapping from ids to words) that we want to use: this is to ensure that [data_clas](https://) will use the same dictionary as [data_lm](https://).\n",
        "\n",
        "Since this step can be a bit time-consuming, it's best to save the result with:"
      ]
    },
    {
      "metadata": {
        "id": "ENWFzTRZhZ0R",
        "colab_type": "code",
        "colab": {}
      },
      "cell_type": "code",
      "source": [
        "# To save a pickled copy of our TextDataBunches\n",
        "\n",
        "data_lm.save('data_lm_export.pkl')\n",
        "data_clas.save('data_clas_export.pkl')"
      ],
      "execution_count": 0,
      "outputs": []
    },
    {
      "metadata": {
        "id": "YWInavl2Zh6B",
        "colab_type": "code",
        "colab": {}
      },
      "cell_type": "code",
      "source": [
        "# Load the data\n",
        "\n",
        "data_lm = load_data(path, fname='data_lm_export.pkl')\n",
        "data_clas = load_data(path, fname='data_clas_export.pkl', bs=16)"
      ],
      "execution_count": 0,
      "outputs": []
    },
    {
      "metadata": {
        "id": "pUsS2yq4vyl4",
        "colab_type": "text"
      },
      "cell_type": "markdown",
      "source": [
        "##PRETRAINING A LANGUAGE MODEL\n",
        "\n",
        "One of the key insights of the ULMFiT model is to pretrain the language model on a large, more general dataset and to then fine tune on the target dataset. The ULMFiT paper chose to use the WikiText-103 dataset which is a large collection of English language wikipedia articles. This dataset is a pretty universal dataset for the English language so I'm going to use it for this task as well. There exists pretrained AWD-LSTMs for this dataset which I will use as the basis for my language model. language_model_learner automatically downloads and loads these pretrained weights through the AWD_LSTM model."
      ]
    },
    {
      "metadata": {
        "id": "klowzz4lZh8z",
        "colab_type": "code",
        "colab": {}
      },
      "cell_type": "code",
      "source": [
        "# Here we run language_model_learner and apply AWD_LSTM as the architecture of our network.\n",
        "\n",
        "learn = language_model_learner(data_lm, AWD_LSTM, drop_mult=0.5)"
      ],
      "execution_count": 0,
      "outputs": []
    },
    {
      "metadata": {
        "id": "BgIhG7o_HYot",
        "colab_type": "text"
      },
      "cell_type": "markdown",
      "source": [
        "**Discriminative Fine Tuning  [source](https://github.com/prrao87/tweet-stance-prediction/blob/master/ulmfit.ipynb)**\n",
        "\n",
        "From the ULMFiT paper, each layer of the model captures different types of information. Hence, it makes sense to fine-tune each layer differently, and this is done in ULMFiT after extensive empirical testing and implementation updates. Rather than change each layer manually, we can use the implemented ratios, but adapt the multiplier that influences the learning rate for each layer.\n",
        "\n",
        "**1-cycle learning rate policy  [source](https://github.com/prrao87/tweet-stance-prediction/blob/master/ulmfit.ipynb)**\n",
        "\n",
        "In the fine-tuning stage, a 1-cycle learning rate policy is applied, which comes from this report by Leslie Smith. It is a modification of the cyclical learning rate policy, which has been around for a long time, but the 1-cycle policy allows a large initial learning rate ($LR_{max}=10^{-3}$, for example), but decreases it by several orders of magnitude just at the last epoch. This seems to provide greater final accuracy. In the ULMFiT implementation, this 1-cycle policy has been tweaked and is referred to as slanted triangular learning rate."
      ]
    },
    {
      "metadata": {
        "id": "4jaxx_qQZh_d",
        "colab_type": "code",
        "outputId": "82676cc6-bbf6-45ed-c469-54b3f7e81477",
        "colab": {
          "base_uri": "https://localhost:8080/",
          "height": 103
        }
      },
      "cell_type": "code",
      "source": [
        "# Here we apply the 1-cycle learning rate policy\n",
        "# 1e-2 is the max learning rate\n",
        "\n",
        "learn.fit_one_cycle(1, 1e-2)"
      ],
      "execution_count": 23,
      "outputs": [
        {
          "output_type": "display_data",
          "data": {
            "text/html": [
              "Total time: 00:21 <p><table border=\"1\" class=\"dataframe\">\n",
              "  <thead>\n",
              "    <tr style=\"text-align: left;\">\n",
              "      <th>epoch</th>\n",
              "      <th>train_loss</th>\n",
              "      <th>valid_loss</th>\n",
              "      <th>accuracy</th>\n",
              "      <th>time</th>\n",
              "    </tr>\n",
              "  </thead>\n",
              "  <tbody>\n",
              "    <tr>\n",
              "      <td>0</td>\n",
              "      <td>5.244658</td>\n",
              "      <td>4.474932</td>\n",
              "      <td>0.217202</td>\n",
              "      <td>00:21</td>\n",
              "    </tr>\n",
              "  </tbody>\n",
              "</table>"
            ],
            "text/plain": [
              "<IPython.core.display.HTML object>"
            ]
          },
          "metadata": {
            "tags": []
          }
        }
      ]
    },
    {
      "metadata": {
        "id": "NHjE6vf9muud",
        "colab_type": "text"
      },
      "cell_type": "markdown",
      "source": [
        "For the language model fine tuning, we generally stick to the default values given in the ULMFiT paper/fasti.ai tutorials. In particular, the drop_mult and moms arguments are left as default. Cycle length (cyc_len) and learning rate (max_lr) are optimised based on validation set performance (and the lr_find() function for learning rate) since our dataset is quite different to the IMDB dataset that ULMFiT was originally trained on."
      ]
    },
    {
      "metadata": {
        "id": "3OwjMcP7p4CV",
        "colab_type": "code",
        "outputId": "0779ca3e-c851-4bb1-e7c5-53436af9249c",
        "colab": {
          "base_uri": "https://localhost:8080/",
          "height": 296
        }
      },
      "cell_type": "code",
      "source": [
        "learn.lr_find()\n",
        "learn.recorder.plot()"
      ],
      "execution_count": 24,
      "outputs": [
        {
          "output_type": "display_data",
          "data": {
            "text/html": [
              ""
            ],
            "text/plain": [
              "<IPython.core.display.HTML object>"
            ]
          },
          "metadata": {
            "tags": []
          }
        },
        {
          "output_type": "stream",
          "text": [
            "LR Finder is complete, type {learner_name}.recorder.plot() to see the graph.\n"
          ],
          "name": "stdout"
        },
        {
          "output_type": "display_data",
          "data": {
            "image/png": "[encoded data removed]",
            "text/plain": [
              "<Figure size 432x288 with 1 Axes>"
            ]
          },
          "metadata": {
            "tags": []
          }
        }
      ]
    },
    {
      "metadata": {
        "id": "GJJdtdyiEjeM",
        "colab_type": "text"
      },
      "cell_type": "markdown",
      "source": [
        "Like a computer vision model, we can then unfreeze the model and fine-tune it."
      ]
    },
    {
      "metadata": {
        "id": "HvC5YlRgZiB8",
        "colab_type": "code",
        "outputId": "94ab56f4-a6b8-4b26-bf3f-c7954dcd5419",
        "colab": {
          "base_uri": "https://localhost:8080/",
          "height": 382
        }
      },
      "cell_type": "code",
      "source": [
        "# all layers now trainable\n",
        "\n",
        "learn.unfreeze() \n",
        "\n",
        "# tried 10 epochs to get low validation loss\n",
        "\n",
        "learn.fit_one_cycle(10, 1e-3)"
      ],
      "execution_count": 25,
      "outputs": [
        {
          "output_type": "display_data",
          "data": {
            "text/html": [
              "Total time: 04:27 <p><table border=\"1\" class=\"dataframe\">\n",
              "  <thead>\n",
              "    <tr style=\"text-align: left;\">\n",
              "      <th>epoch</th>\n",
              "      <th>train_loss</th>\n",
              "      <th>valid_loss</th>\n",
              "      <th>accuracy</th>\n",
              "      <th>time</th>\n",
              "    </tr>\n",
              "  </thead>\n",
              "  <tbody>\n",
              "    <tr>\n",
              "      <td>0</td>\n",
              "      <td>4.572908</td>\n",
              "      <td>4.279199</td>\n",
              "      <td>0.237009</td>\n",
              "      <td>00:26</td>\n",
              "    </tr>\n",
              "    <tr>\n",
              "      <td>1</td>\n",
              "      <td>4.409795</td>\n",
              "      <td>4.115213</td>\n",
              "      <td>0.259464</td>\n",
              "      <td>00:26</td>\n",
              "    </tr>\n",
              "    <tr>\n",
              "      <td>2</td>\n",
              "      <td>4.239657</td>\n",
              "      <td>4.013269</td>\n",
              "      <td>0.268423</td>\n",
              "      <td>00:26</td>\n",
              "    </tr>\n",
              "    <tr>\n",
              "      <td>3</td>\n",
              "      <td>4.085693</td>\n",
              "      <td>3.934964</td>\n",
              "      <td>0.276131</td>\n",
              "      <td>00:26</td>\n",
              "    </tr>\n",
              "    <tr>\n",
              "      <td>4</td>\n",
              "      <td>3.931792</td>\n",
              "      <td>3.889445</td>\n",
              "      <td>0.281057</td>\n",
              "      <td>00:26</td>\n",
              "    </tr>\n",
              "    <tr>\n",
              "      <td>5</td>\n",
              "      <td>3.817577</td>\n",
              "      <td>3.873135</td>\n",
              "      <td>0.281473</td>\n",
              "      <td>00:26</td>\n",
              "    </tr>\n",
              "    <tr>\n",
              "      <td>6</td>\n",
              "      <td>3.692185</td>\n",
              "      <td>3.857906</td>\n",
              "      <td>0.284018</td>\n",
              "      <td>00:26</td>\n",
              "    </tr>\n",
              "    <tr>\n",
              "      <td>7</td>\n",
              "      <td>3.597275</td>\n",
              "      <td>3.855672</td>\n",
              "      <td>0.284301</td>\n",
              "      <td>00:26</td>\n",
              "    </tr>\n",
              "    <tr>\n",
              "      <td>8</td>\n",
              "      <td>3.532992</td>\n",
              "      <td>3.856052</td>\n",
              "      <td>0.284673</td>\n",
              "      <td>00:26</td>\n",
              "    </tr>\n",
              "    <tr>\n",
              "      <td>9</td>\n",
              "      <td>3.508546</td>\n",
              "      <td>3.856624</td>\n",
              "      <td>0.284375</td>\n",
              "      <td>00:26</td>\n",
              "    </tr>\n",
              "  </tbody>\n",
              "</table>"
            ],
            "text/plain": [
              "<IPython.core.display.HTML object>"
            ]
          },
          "metadata": {
            "tags": []
          }
        }
      ]
    },
    {
      "metadata": {
        "id": "Ge4m4jBGdFPi",
        "colab_type": "code",
        "colab": {}
      },
      "cell_type": "code",
      "source": [
        "# Saving the language model(LM) so we can load it later\n",
        "\n",
        "learn.save_encoder('ft_enc')"
      ],
      "execution_count": 0,
      "outputs": []
    },
    {
      "metadata": {
        "id": "oMDs8eakEqzl",
        "colab_type": "text"
      },
      "cell_type": "markdown",
      "source": [
        "**TRAINING A CLASSIFIER**\n",
        "\n",
        "We now use the data_clas object we created earlier to build a classifier with our fine-tuned encoder. The learner object can be done in a single line."
      ]
    },
    {
      "metadata": {
        "id": "yVr88ncKc5_Z",
        "colab_type": "code",
        "colab": {}
      },
      "cell_type": "code",
      "source": [
        "# After the LM is fine-tuned on the target task, we run the text_classifier_learner to start training the classifier\n",
        "# on the target task (classification of tweets)\n",
        "\n",
        "learn = text_classifier_learner(data_clas, AWD_LSTM, drop_mult=0.5)"
      ],
      "execution_count": 0,
      "outputs": []
    },
    {
      "metadata": {
        "id": "TZjtpzgWc0ek",
        "colab_type": "code",
        "colab": {}
      },
      "cell_type": "code",
      "source": [
        "# we load the fine-tuned LM as we are going to run further fine-tuning over the classifier\n",
        "\n",
        "learn.load_encoder('ft_enc')"
      ],
      "execution_count": 0,
      "outputs": []
    },
    {
      "metadata": {
        "id": "OB_j9qdOrTLZ",
        "colab_type": "code",
        "outputId": "0a500e53-ac4f-4ea0-bf5b-3f979f5aa878",
        "colab": {
          "base_uri": "https://localhost:8080/",
          "height": 296
        }
      },
      "cell_type": "code",
      "source": [
        "learn.lr_find()\n",
        "learn.recorder.plot()"
      ],
      "execution_count": 29,
      "outputs": [
        {
          "output_type": "display_data",
          "data": {
            "text/html": [
              ""
            ],
            "text/plain": [
              "<IPython.core.display.HTML object>"
            ]
          },
          "metadata": {
            "tags": []
          }
        },
        {
          "output_type": "stream",
          "text": [
            "LR Finder is complete, type {learner_name}.recorder.plot() to see the graph.\n"
          ],
          "name": "stdout"
        },
        {
          "output_type": "display_data",
          "data": {
            "image/png": "[encoded data removed]",
            "text/plain": [
              "<Figure size 432x288 with 1 Axes>"
            ]
          },
          "metadata": {
            "tags": []
          }
        }
      ]
    },
    {
      "metadata": {
        "id": "pT0ZENdocqK3",
        "colab_type": "code",
        "outputId": "c3036884-b8e3-480d-a978-76e6d1fa8a58",
        "colab": {
          "base_uri": "https://localhost:8080/",
          "height": 221
        }
      },
      "cell_type": "code",
      "source": [
        "# Now we can have a look at how fastai.text tokenize the text:\n",
        "\n",
        "data_clas.show_batch()"
      ],
      "execution_count": 30,
      "outputs": [
        {
          "output_type": "display_data",
          "data": {
            "text/html": [
              "<table border=\"1\" class=\"dataframe\">\n",
              "  <thead>\n",
              "    <tr style=\"text-align: right;\">\n",
              "      <th>text</th>\n",
              "      <th>target</th>\n",
              "    </tr>\n",
              "  </thead>\n",
              "  <tbody>\n",
              "    <tr>\n",
              "      <td>xxbos i xxup just xxup asked xxup my xxup boyfriend xxup to xxup xxunk xxup over xxup the xxup xxunk xxup on xxup flight xxunk xxup he xxup said xxup yes xxrep 4 ! xxup best xxup day xxup ever ! ! ! xxup thank u xxup so xxup much xxrep 6 !</td>\n",
              "      <td>1</td>\n",
              "    </tr>\n",
              "    <tr>\n",
              "      <td>xxbos xxmaj trying to make an online xxmaj flight xxmaj booking xxmaj problems one way from xxmaj xxunk xxup nyc but wo nt let me as says i need a xxmaj xxunk xxup cc ... why ? ? !</td>\n",
              "      <td>-1</td>\n",
              "    </tr>\n",
              "    <tr>\n",
              "      <td>xxbos xxmaj what is happening ? xxmaj have been sitting in xxmaj philly for hours . xxmaj pls take care of xxmaj flight 759 to xxmaj chicago . xxmaj at least least us know ! xxunk xxmaj flight</td>\n",
              "      <td>-1</td>\n",
              "    </tr>\n",
              "    <tr>\n",
              "      <td>xxbos xxmaj cancelled xxmaj flightled my flight and i m stranded in xxmaj st. xxmaj louis . xxmaj not sure what to do . xxmaj no other flight until tomorrow . xxmaj am i to sleep in xxunk</td>\n",
              "      <td>-1</td>\n",
              "    </tr>\n",
              "    <tr>\n",
              "      <td>xxbos xxmaj worst airline . xxmaj you xxmaj cancelled xxmaj flight flight , do nt let me know , i wait on hold 30 mins , told to enter callback for middle of the night ? ! !</td>\n",
              "      <td>-1</td>\n",
              "    </tr>\n",
              "  </tbody>\n",
              "</table>"
            ],
            "text/plain": [
              "<IPython.core.display.HTML object>"
            ]
          },
          "metadata": {
            "tags": []
          }
        }
      ]
    },
    {
      "metadata": {
        "id": "k1OgVsxHci9I",
        "colab_type": "code",
        "outputId": "567589a2-d4d3-4c19-8707-94110b07f228",
        "colab": {
          "base_uri": "https://localhost:8080/",
          "height": 227
        }
      },
      "cell_type": "code",
      "source": [
        "# we apply the 1-cycle learning rate policy again to train the classifier in 5 epochs.\n",
        "\n",
        "learn.fit_one_cycle(5, 1e-2)"
      ],
      "execution_count": 41,
      "outputs": [
        {
          "output_type": "display_data",
          "data": {
            "text/html": [
              "Total time: 07:18 <p><table border=\"1\" class=\"dataframe\">\n",
              "  <thead>\n",
              "    <tr style=\"text-align: left;\">\n",
              "      <th>epoch</th>\n",
              "      <th>train_loss</th>\n",
              "      <th>valid_loss</th>\n",
              "      <th>accuracy</th>\n",
              "      <th>time</th>\n",
              "    </tr>\n",
              "  </thead>\n",
              "  <tbody>\n",
              "    <tr>\n",
              "      <td>0</td>\n",
              "      <td>0.670411</td>\n",
              "      <td>0.576811</td>\n",
              "      <td>0.763059</td>\n",
              "      <td>01:29</td>\n",
              "    </tr>\n",
              "    <tr>\n",
              "      <td>1</td>\n",
              "      <td>0.665701</td>\n",
              "      <td>0.818493</td>\n",
              "      <td>0.756914</td>\n",
              "      <td>01:25</td>\n",
              "    </tr>\n",
              "    <tr>\n",
              "      <td>2</td>\n",
              "      <td>0.680005</td>\n",
              "      <td>0.544678</td>\n",
              "      <td>0.765449</td>\n",
              "      <td>01:27</td>\n",
              "    </tr>\n",
              "    <tr>\n",
              "      <td>3</td>\n",
              "      <td>0.602589</td>\n",
              "      <td>0.498366</td>\n",
              "      <td>0.803687</td>\n",
              "      <td>01:28</td>\n",
              "    </tr>\n",
              "    <tr>\n",
              "      <td>4</td>\n",
              "      <td>0.580457</td>\n",
              "      <td>0.467493</td>\n",
              "      <td>0.817344</td>\n",
              "      <td>01:27</td>\n",
              "    </tr>\n",
              "  </tbody>\n",
              "</table>"
            ],
            "text/plain": [
              "<IPython.core.display.HTML object>"
            ]
          },
          "metadata": {
            "tags": []
          }
        }
      ]
    },
    {
      "metadata": {
        "id": "zS2LK7-iIhRD",
        "colab_type": "text"
      },
      "cell_type": "markdown",
      "source": [
        "**Gradual unfreezing  [source](https://github.com/prrao87/tweet-stance-prediction/blob/master/ulmfit.ipynb)**\n",
        "\n",
        "Rather than training all the layers at once during classification, the layers are \"frozen\" and the last layer is fine-tuned first, followed by the next layer before it, and so on. This avoids the phenomenon known as catastrophic forgetting (by fine-tuning all layers too aggressively)."
      ]
    },
    {
      "metadata": {
        "id": "iq1dPyeNcdxD",
        "colab_type": "code",
        "outputId": "8747bfdf-7d59-495e-9d6c-9cab0fe7317a",
        "colab": {
          "base_uri": "https://localhost:8080/",
          "height": 165
        }
      },
      "cell_type": "code",
      "source": [
        "# We first freeze everything except the last two layers and then start fine-tuning for 3 epochs\n",
        "\n",
        "learn.freeze_to(-2)\n",
        "learn.fit_one_cycle(3, slice(5e-3/2, 5e-3))"
      ],
      "execution_count": 42,
      "outputs": [
        {
          "output_type": "display_data",
          "data": {
            "text/html": [
              "Total time: 02:09 <p><table border=\"1\" class=\"dataframe\">\n",
              "  <thead>\n",
              "    <tr style=\"text-align: left;\">\n",
              "      <th>epoch</th>\n",
              "      <th>train_loss</th>\n",
              "      <th>valid_loss</th>\n",
              "      <th>accuracy</th>\n",
              "      <th>time</th>\n",
              "    </tr>\n",
              "  </thead>\n",
              "  <tbody>\n",
              "    <tr>\n",
              "      <td>0</td>\n",
              "      <td>0.616544</td>\n",
              "      <td>0.515491</td>\n",
              "      <td>0.804029</td>\n",
              "      <td>00:43</td>\n",
              "    </tr>\n",
              "    <tr>\n",
              "      <td>1</td>\n",
              "      <td>0.582890</td>\n",
              "      <td>0.468439</td>\n",
              "      <td>0.814954</td>\n",
              "      <td>00:43</td>\n",
              "    </tr>\n",
              "    <tr>\n",
              "      <td>2</td>\n",
              "      <td>0.550130</td>\n",
              "      <td>0.462062</td>\n",
              "      <td>0.813247</td>\n",
              "      <td>00:42</td>\n",
              "    </tr>\n",
              "  </tbody>\n",
              "</table>"
            ],
            "text/plain": [
              "<IPython.core.display.HTML object>"
            ]
          },
          "metadata": {
            "tags": []
          }
        }
      ]
    },
    {
      "metadata": {
        "id": "4atL9DBacSK0",
        "colab_type": "code",
        "outputId": "7a8e6e74-1b51-4c13-ec13-e3caf9c10502",
        "colab": {
          "base_uri": "https://localhost:8080/",
          "height": 103
        }
      },
      "cell_type": "code",
      "source": [
        "# All the layers are unfreezed and we apply fine-tuning one last time.\n",
        "\n",
        "learn.unfreeze()\n",
        "learn.fit_one_cycle(1, slice(2e-3/100, 2e-3))"
      ],
      "execution_count": 43,
      "outputs": [
        {
          "output_type": "display_data",
          "data": {
            "text/html": [
              "Total time: 01:28 <p><table border=\"1\" class=\"dataframe\">\n",
              "  <thead>\n",
              "    <tr style=\"text-align: left;\">\n",
              "      <th>epoch</th>\n",
              "      <th>train_loss</th>\n",
              "      <th>valid_loss</th>\n",
              "      <th>accuracy</th>\n",
              "      <th>time</th>\n",
              "    </tr>\n",
              "  </thead>\n",
              "  <tbody>\n",
              "    <tr>\n",
              "      <td>0</td>\n",
              "      <td>0.534273</td>\n",
              "      <td>0.463670</td>\n",
              "      <td>0.816320</td>\n",
              "      <td>01:28</td>\n",
              "    </tr>\n",
              "  </tbody>\n",
              "</table>"
            ],
            "text/plain": [
              "<IPython.core.display.HTML object>"
            ]
          },
          "metadata": {
            "tags": []
          }
        }
      ]
    },
    {
      "metadata": {
        "id": "8swP5jesZiHN",
        "colab_type": "code",
        "outputId": "c1020570-6501-46a9-fd9d-ca3e2435d4e1",
        "colab": {
          "base_uri": "https://localhost:8080/",
          "height": 34
        }
      },
      "cell_type": "code",
      "source": [
        "# Predicting a Positive tweet\n",
        "\n",
        "learn.predict(\"Had to change my flight at the last second tonight, and the customer service was great as well as.Thank you @Delta\")"
      ],
      "execution_count": 44,
      "outputs": [
        {
          "output_type": "execute_result",
          "data": {
            "text/plain": [
              "(Category 1, tensor(2), tensor([0.3759, 0.0309, 0.5931]))"
            ]
          },
          "metadata": {
            "tags": []
          },
          "execution_count": 44
        }
      ]
    },
    {
      "metadata": {
        "id": "3kOJb-B-ZiJk",
        "colab_type": "code",
        "outputId": "fda8b85a-0163-45ac-8c9c-cbcf0428295c",
        "colab": {
          "base_uri": "https://localhost:8080/",
          "height": 34
        }
      },
      "cell_type": "code",
      "source": [
        "# Predicting a Negative tweet\n",
        "\n",
        "learn.predict(\"I'm never flying you again, worst response from customer service\")"
      ],
      "execution_count": 45,
      "outputs": [
        {
          "output_type": "execute_result",
          "data": {
            "text/plain": [
              "(Category -1, tensor(0), tensor([9.9817e-01, 1.7519e-03, 7.5726e-05]))"
            ]
          },
          "metadata": {
            "tags": []
          },
          "execution_count": 45
        }
      ]
    },
    {
      "metadata": {
        "id": "pOtmslxwoJfC",
        "colab_type": "code",
        "outputId": "77f0e5ef-f7bf-4238-dc60-86417aa28f26",
        "colab": {
          "base_uri": "https://localhost:8080/",
          "height": 34
        }
      },
      "cell_type": "code",
      "source": [
        "# Predicting a Neutral tweet\n",
        "\n",
        "learn.predict(\"any plans to start flying directly from Bangalore to Dubai,@American \")"
      ],
      "execution_count": 46,
      "outputs": [
        {
          "output_type": "execute_result",
          "data": {
            "text/plain": [
              "(Category 0, tensor(1), tensor([0.1071, 0.8638, 0.0291]))"
            ]
          },
          "metadata": {
            "tags": []
          },
          "execution_count": 46
        }
      ]
    },
    {
      "metadata": {
        "id": "iDFbw_ReKDt9",
        "colab_type": "text"
      },
      "cell_type": "markdown",
      "source": [
        "**SUMMARY**\n",
        "\n",
        "In this project, we built an classification pipeline usig ULMFiT approach in fastai.text library to analyze the sentiment of US-Airlline Tweets.We were able to achieve good accuracy by fine-tuning the model in two different stages : fine-tuning the LM for our target task and fine-tuning the classifier on the target task.\n",
        "\n",
        "Finally, the ULMFiT model continued to learn the sentiment label and achieved its best accuracy of **0.816230** and some predictions for Positive, Negative and Neutral Tweets done by our model is worth satisfying.\n",
        "\n",
        "####REFERENCE\n",
        "https://course.fast.ai/index.html\n",
        "\n",
        "https://www.analyticsvidhya.com/blog/2018/11/tutorial-text-classification-ulmfit-fastai-library/\n",
        "\n",
        "https://towardsdatascience.com/transfer-learning-in-nlp-for-tweet-stance-classification-8ab014da8dde\n",
        "\n"
      ]
    }
  ]
}